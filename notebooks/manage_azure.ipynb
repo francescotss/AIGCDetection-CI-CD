{
 "cells": [
  {
   "cell_type": "markdown",
   "metadata": {},
   "source": [
    "### Connect to workspace"
   ]
  },
  {
   "cell_type": "code",
   "execution_count": 2,
   "metadata": {},
   "outputs": [
    {
     "name": "stderr",
     "output_type": "stream",
     "text": [
      "Found the config file in: infos/config.json\n"
     ]
    }
   ],
   "source": [
    "from azure.ai.ml import MLClient\n",
    "from azure.identity import DefaultAzureCredential\n",
    "\n",
    "ml_client = MLClient.from_config(DefaultAzureCredential(), path=\"infos\")\n"
   ]
  },
  {
   "cell_type": "markdown",
   "metadata": {},
   "source": [
    "### Create data asset"
   ]
  },
  {
   "cell_type": "code",
   "execution_count": null,
   "metadata": {},
   "outputs": [],
   "source": [
    "from azure.ai.ml.entities import Data\n",
    "from azure.ai.ml.constants import AssetTypes\n",
    "\n",
    "VERSION = \"01\"\n",
    "PATH = \"./datasets/cyclegan\"\n",
    "\n",
    "datafolder = Data(\n",
    "    path=PATH,\n",
    "    type=AssetTypes.URI_FOLDER,\n",
    "    description=\"Cyclegan generated images dataset\",\n",
    "    name=\"cyclegan\",\n",
    "    version=VERSION,\n",
    ")\n",
    "ml_client.data.create_or_update(datafolder)"
   ]
  }
 ],
 "metadata": {
  "kernelspec": {
   "display_name": "AIGCdetection",
   "language": "python",
   "name": "python3"
  },
  "language_info": {
   "codemirror_mode": {
    "name": "ipython",
    "version": 3
   },
   "file_extension": ".py",
   "mimetype": "text/x-python",
   "name": "python",
   "nbconvert_exporter": "python",
   "pygments_lexer": "ipython3",
   "version": "3.12.2"
  }
 },
 "nbformat": 4,
 "nbformat_minor": 2
}
