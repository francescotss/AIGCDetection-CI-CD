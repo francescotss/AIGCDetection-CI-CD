{
 "cells": [
  {
   "cell_type": "markdown",
   "metadata": {},
   "source": [
    "### Connect to workspace"
   ]
  },
  {
   "cell_type": "code",
   "execution_count": 2,
   "metadata": {},
   "outputs": [
    {
     "name": "stderr",
     "output_type": "stream",
     "text": [
      "Found the config file in: infos/config.json\n"
     ]
    }
   ],
   "source": [
    "from azure.ai.ml import MLClient\n",
    "from azure.identity import DefaultAzureCredential\n",
    "\n",
    "ml_client = MLClient.from_config(DefaultAzureCredential(), path=\"infos\")\n"
   ]
  },
  {
   "cell_type": "markdown",
   "metadata": {},
   "source": [
    "### Create data asset"
   ]
  },
  {
   "cell_type": "code",
   "execution_count": 4,
   "metadata": {},
   "outputs": [
    {
     "name": "stderr",
     "output_type": "stream",
     "text": [
      "Your file exceeds 100 MB. If you experience low speeds, latency, or broken connections, we recommend using the AzCopyv10 tool for this file transfer.\n",
      "\n",
      "Example: azcopy copy '/home/fra/AIGCDetection-CI-CD/datasets/cyclegan' 'https://staigcdetmlopsv01prod.blob.core.windows.net/azureml-blobstore-76974ca3-9256-47f9-b1ab-ac192f456cb7/LocalUpload/2c7a6e1f584eeb79d2a6902f85399846/cyclegan' \n",
      "\n",
      "See https://docs.microsoft.com/azure/storage/common/storage-use-azcopy-v10 for more information.\n",
      "\u001b[32mUploading cyclegan (312.23 MBs): 100%|██████████| 312226818/312226818 [00:35<00:00, 8901787.25it/s] \n",
      "\u001b[39m\n",
      "\n"
     ]
    },
    {
     "data": {
      "text/plain": [
       "Data({'skip_validation': False, 'mltable_schema_url': None, 'referenced_uris': None, 'type': 'uri_folder', 'is_anonymous': False, 'auto_increment_version': False, 'auto_delete_setting': None, 'name': 'cyclegan', 'description': 'Cyclegan generated images dataset', 'tags': {}, 'properties': {}, 'print_as_yaml': True, 'id': '/subscriptions/da410978-ae2f-4606-b712-869f7ee92699/resourceGroups/rg-aigcdetmlops-v01prod/providers/Microsoft.MachineLearningServices/workspaces/mlw-aigcdetmlops-v01prod/data/cyclegan/versions/01', 'Resource__source_path': None, 'base_path': '/home/fra/AIGCDetection-CI-CD', 'creation_context': <azure.ai.ml.entities._system_data.SystemData object at 0x7fc64cf3b5c0>, 'serialize': <msrest.serialization.Serializer object at 0x7fc64cf3e1e0>, 'version': '01', 'latest_version': None, 'path': 'azureml://subscriptions/da410978-ae2f-4606-b712-869f7ee92699/resourcegroups/rg-aigcdetmlops-v01prod/workspaces/mlw-aigcdetmlops-v01prod/datastores/workspaceblobstore/paths/LocalUpload/2c7a6e1f584eeb79d2a6902f85399846/cyclegan/', 'datastore': None})"
      ]
     },
     "execution_count": 4,
     "metadata": {},
     "output_type": "execute_result"
    }
   ],
   "source": [
    "from azure.ai.ml.entities import Data\n",
    "from azure.ai.ml.constants import AssetTypes\n",
    "\n",
    "VERSION = \"01\"\n",
    "PATH = \"./datasets/cyclegan\"\n",
    "\n",
    "datafolder = Data(\n",
    "    path=PATH,\n",
    "    type=AssetTypes.URI_FOLDER,\n",
    "    description=\"Cyclegan generated images dataset\",\n",
    "    name=\"cyclegan\",\n",
    "    version=VERSION,\n",
    ")\n",
    "ml_client.data.create_or_update(datafolder)"
   ]
  }
 ],
 "metadata": {
  "kernelspec": {
   "display_name": "AIGCdetection",
   "language": "python",
   "name": "python3"
  },
  "language_info": {
   "codemirror_mode": {
    "name": "ipython",
    "version": 3
   },
   "file_extension": ".py",
   "mimetype": "text/x-python",
   "name": "python",
   "nbconvert_exporter": "python",
   "pygments_lexer": "ipython3",
   "version": "3.12.2"
  }
 },
 "nbformat": 4,
 "nbformat_minor": 2
}
